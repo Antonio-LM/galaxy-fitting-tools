{
 "cells": [
  {
   "cell_type": "markdown",
   "metadata": {},
   "source": [
    "# Creating masks\n",
    "\n",
    "## Context\n",
    "\n",
    "\n",
    "\n",
    "To avoid contamination of bright sources in the derivation of light profiles, these regions need to be masked and therefore excluded. To do so, we use masks or sometimes referred to as \"exclusion masks\". These maps contain information in boolean values where the pixels to be exlcuded are stored as False/True, depending on the program requirements. In order for it to be exported to a FITS file, \"boolean\" values should to be converted to 1 or 0. Hence, the resulting array is of 1s and 0s saved as FITS with the orginal WCS (world coordinate system) and HEADER. \n",
    "\n",
    "### Objective: Build a Mask.fits from a DS9.reg file\n",
    "\n",
    "Python alternative to making Mask in FITS (Flexible Image Transport System) format. Accepts DS9.reg files. \n",
    "\n",
    "### Requirements\n",
    "<br>`Python 3.7` \n",
    "<br>`astropy`\n",
    "<br>`numpy`\n",
    "<br>`matplotlib` (only to display image)\n",
    "<br>`pyregions` \n",
    "  \n",
    " <br>  To install `pyregions`: \n",
    "     \n",
    " <br>   **Using pip**\n",
    "  <br>  pip install --no-deps pyregion\n",
    "  \n",
    "  <br>   **Using Conda**\n",
    "  <br>  conda install -c conda-forge pyregion\n",
    "              "
   ]
  },
  {
   "cell_type": "code",
   "execution_count": 16,
   "metadata": {},
   "outputs": [],
   "source": [
    "import pyregion\n",
    "from astropy.io import fits\n",
    "import matplotlib.pyplot as plt\n",
    "import numpy as np"
   ]
  },
  {
   "cell_type": "markdown",
   "metadata": {},
   "source": [
    "### Load FITS image\n",
    "Path-to-file"
   ]
  },
  {
   "cell_type": "code",
   "execution_count": 35,
   "metadata": {},
   "outputs": [],
   "source": [
    "f = fits.open(\"C:\\\\Users\\\\anton\\\\Documents\\\\Hydra UDGs paper\\\\Hydra UDG GCs\\\\INPUT\\\\Cutout\\\\UDG24_g.fits\")"
   ]
  },
  {
   "cell_type": "markdown",
   "metadata": {},
   "source": [
    "### Create list of regions \n",
    "The regions file should be of a DS9.reg format or a file resembling its format which `pyregions` can then parse. \n",
    "<br>There are two ways of doing this:\n",
    "<br>**1. Copy string below** which is then parsed and then converted to image coords which is required for the mask"
   ]
  },
  {
   "cell_type": "code",
   "execution_count": 36,
   "metadata": {},
   "outputs": [],
   "source": [
    "region_string = \"\"\"\n",
    "# Region file format: DS9 version 4.1\n",
    "global color=green dashlist=8 3 width=1 font=\"helvetica 10 normal roman\" select=1 highlite=1 dash=0 fixed=0 edit=1 move=1 delete=1 include=1 source=1\n",
    "fk5\n",
    "circle(3:36:59.9074,-35:57:53.906,15.511\")\n",
    "circle(3:36:56.1276,-35:59:10.311,15.511\")\n",
    "circle(3:36:54.4965,-35:58:21.617,15.511\")\n",
    "circle(3:36:46.9230,-35:57:29.641,15.511\")\n",
    "circle(3:36:42.3698,-35:58:40.667,15.511\")\n",
    "circle(3:36:38.5472,-35:58:58.096,15.511\")\n",
    "circle(3:36:36.6992,-35:57:24.422,15.511\")\n",
    "circle(3:36:54.7948,-36:02:28.226,15.511\")\n",
    "circle(3:36:57.1146,-36:02:53.579,15.511\")\n",
    "circle(3:36:36.5146,-36:02:40.885,15.511\")\n",
    "\"\"\"\n",
    "r1 = pyregion.parse(region_string).as_imagecoord(f[0].header)"
   ]
  },
  {
   "cell_type": "markdown",
   "metadata": {},
   "source": [
    "<br>**2. Import regions file** \n",
    "<br> The coordinates are then converted to image coords which is required for the mask\n",
    "<br> Sometimes a warning is issued but this can be ignored: WARNING: FITSFixedWarning: RADECSYS= 'ICRS ' / Astrometric system \n",
    "the RADECSYS keyword is deprecated, use RADESYSa. [astropy.wcs.wcs] "
   ]
  },
  {
   "cell_type": "code",
   "execution_count": 37,
   "metadata": {},
   "outputs": [],
   "source": [
    "region_name = \"C:\\\\Users\\\\anton\\\\Documents\\\\Hydra UDGs paper\\\\Hydra UDG GCs\\\\INPUT\\\\Mask\\\\UDG24_mask.reg\"\n",
    "r = pyregion.open(region_name).as_imagecoord(f[0].header)"
   ]
  },
  {
   "cell_type": "markdown",
   "metadata": {},
   "source": [
    "### Create mask\n",
    "The mask is obtained using `pyregion.get_mask` which accepts three arguments (region, hdu, origin=1); region is the shape and hdu is the header of the original image. It then returns a mask, which is an array of boolean values. \n",
    "<br> Since the mask returned is of boolean values, the values in this array should be converted to integers (0,1). We do this by multiplying the array. "
   ]
  },
  {
   "cell_type": "code",
   "execution_count": 38,
   "metadata": {},
   "outputs": [],
   "source": [
    "mask = r.get_mask(hdu=f[0])\n",
    "mask_val = np.multiply(mask, 1)"
   ]
  },
  {
   "cell_type": "markdown",
   "metadata": {},
   "source": [
    "### View mask array \n",
    "`plt.imshow` can be used to project the array into a 2D image"
   ]
  },
  {
   "cell_type": "code",
   "execution_count": 39,
   "metadata": {},
   "outputs": [
    {
     "data": {
      "text/plain": [
       "<matplotlib.colorbar.Colorbar at 0x1f88fe39f48>"
      ]
     },
     "execution_count": 39,
     "metadata": {},
     "output_type": "execute_result"
    },
    {
     "data": {
      "image/png": "[encoded data removed]",
      "text/plain": [
       "<Figure size 432x288 with 2 Axes>"
      ]
     },
     "metadata": {
      "needs_background": "light"
     },
     "output_type": "display_data"
    }
   ],
   "source": [
    "plt.imshow(mask_val, origin=\"lower\", interpolation=\"nearest\", cmap='gray', vmin=0, vmax=1)\n",
    "plt.colorbar()"
   ]
  },
  {
   "cell_type": "markdown",
   "metadata": {},
   "source": [
    "### Export to FITS\n",
    "The mask array is then exported to a FITS file along with the header of the original image. "
   ]
  },
  {
   "cell_type": "code",
   "execution_count": 40,
   "metadata": {},
   "outputs": [],
   "source": [
    "mask_fits = 'C:\\\\Users\\\\anton\\\\Documents\\\\Hydra UDGs paper\\\\Hydra UDG GCs\\\\INPUT\\\\Mask\\\\UDG24_g_mask_v2.fits'\n",
    "hdu = fits.PrimaryHDU(mask_val, header=f[0].header)\n",
    "hdu.writeto(mask_fits, overwrite=True)"
   ]
  },
  {
   "cell_type": "code",
   "execution_count": null,
   "metadata": {},
   "outputs": [],
   "source": []
  },
  {
   "cell_type": "code",
   "execution_count": null,
   "metadata": {},
   "outputs": [],
   "source": []
  }
 ],
 "metadata": {
  "kernelspec": {
   "display_name": "Python 3",
   "language": "python",
   "name": "python3"
  },
  "language_info": {
   "codemirror_mode": {
    "name": "ipython",
    "version": 3
   },
   "file_extension": ".py",
   "mimetype": "text/x-python",
   "name": "python",
   "nbconvert_exporter": "python",
   "pygments_lexer": "ipython3",
   "version": "3.8.8"
  }
 },
 "nbformat": 4,
 "nbformat_minor": 4
}
